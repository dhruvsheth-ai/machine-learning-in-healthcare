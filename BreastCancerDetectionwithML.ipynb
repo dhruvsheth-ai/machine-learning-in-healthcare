{
 "cells": [
  {
   "cell_type": "code",
   "execution_count": 3,
   "metadata": {},
   "outputs": [
    {
     "name": "stdout",
     "output_type": "stream",
     "text": [
      "Python: 3.7.4 (default, Aug  9 2019, 18:34:13) [MSC v.1915 64 bit (AMD64)]\n",
      "numpy: 1.16.5\n",
      "matplotlib: 3.1.1\n",
      "pandas: 0.25.1\n",
      "sklearn: 0.21.3\n"
     ]
    }
   ],
   "source": [
    "import sys\n",
    "import numpy #for computation and arrays\n",
    "import matplotlib #for plotting\n",
    "import pandas #to handle data sets\n",
    "import sklearn #for machine learning packages\n",
    "\n",
    "# Print version of each package\n",
    "print('Python: {}'.format(sys.version))\n",
    "print('numpy: {}'.format(numpy.__version__))\n",
    "print('matplotlib: {}'.format(matplotlib.__version__))\n",
    "print('pandas: {}'.format(pandas.__version__))\n",
    "print('sklearn: {}'.format(sklearn.__version__))\n"
   ]
  },
  {
   "cell_type": "code",
   "execution_count": null,
   "metadata": {},
   "outputs": [],
   "source": []
  },
  {
   "cell_type": "code",
   "execution_count": 4,
   "metadata": {},
   "outputs": [],
   "source": [
    "import numpy as np\n",
    "# from sklearn import preprocessing, cross_validation\n",
    "from sklearn import preprocessing\n",
    "from sklearn.model_selection import cross_validate #difference from course\n",
    "from sklearn.neighbors import KNeighborsClassifier #K Nearest Neighbor algorithm\n",
    "from sklearn.svm import SVC #Support Vector Machine\n",
    "from sklearn import model_selection\n",
    "from sklearn.metrics import classification_report, accuracy_score\n",
    "from pandas.plotting import scatter_matrix #for data visualizations\n",
    "import matplotlib.pyplot as plt\n",
    "import pandas as pd\n"
   ]
  },
  {
   "cell_type": "code",
   "execution_count": 5,
   "metadata": {},
   "outputs": [],
   "source": [
    "#Loading the dataset\n",
    "#Source = UCI repository, breast cancer, wisconsin\n",
    "#Column headers found from file, breast-cancer-wisconsin.names\n",
    "#   at https://archive.ics.uci.edu/ml/machine-learning-databases/breast-cancer-wisconsin/\n",
    "url = \"https://archive.ics.uci.edu/ml/machine-learning-databases/breast-cancer-wisconsin/breast-cancer-wisconsin.data\"\n",
    "names = ['id', 'clump_thickness', 'uniform_cell_size', 'uniform_cell_shape', 'marginal-adhesion', 'single_epithelial_cell_size', 'bare_nuclei', 'bland_chromatin', 'normal_nucleoli', 'mitosis', 'class']\n",
    "df = pd.read_csv(url, names=names) #import the data"
   ]
  },
  {
   "cell_type": "code",
   "execution_count": 8,
   "metadata": {},
   "outputs": [
    {
     "name": "stdout",
     "output_type": "stream",
     "text": [
      "[RangeIndex(start=0, stop=699, step=1), Index(['id', 'clump_thickness', 'uniform_cell_size', 'uniform_cell_shape',\n",
      "       'marginal-adhesion', 'single_epithelial_cell_size', 'bare_nuclei',\n",
      "       'bland_chromatin', 'normal_nucleoli', 'mitosis', 'class'],\n",
      "      dtype='object')]\n",
      "(699, 10)\n"
     ]
    }
   ],
   "source": [
    "#*****************\n",
    "#Preprocess the data\n",
    "#*****************\n",
    "# wherever there is a missing value in the data, insert a -99999\n",
    "# to tell Python to ignore that data\n",
    "df.replace('?', -99999, inplace=True) \n",
    "# look at the metrics of the data\n",
    "print(df.axes)\n",
    "# Remove the 'id' column from the data because it adds no value to the machine learning\n",
    "df.drop(['id'], 1, inplace=True)\n",
    "# Look at the shape of the data\n",
    "print(df.shape)"
   ]
  },
  {
   "cell_type": "code",
   "execution_count": null,
   "metadata": {},
   "outputs": [],
   "source": []
  }
 ],
 "metadata": {
  "kernelspec": {
   "display_name": "Python 3",
   "language": "python",
   "name": "python3"
  },
  "language_info": {
   "codemirror_mode": {
    "name": "ipython",
    "version": 3
   },
   "file_extension": ".py",
   "mimetype": "text/x-python",
   "name": "python",
   "nbconvert_exporter": "python",
   "pygments_lexer": "ipython3",
   "version": "3.7.4"
  }
 },
 "nbformat": 4,
 "nbformat_minor": 2
}
