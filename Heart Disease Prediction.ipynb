{
 "cells": [
  {
   "cell_type": "code",
   "execution_count": 5,
   "metadata": {},
   "outputs": [
    {
     "name": "stderr",
     "output_type": "stream",
     "text": [
      "Using Theano backend.\n"
     ]
    },
    {
     "name": "stdout",
     "output_type": "stream",
     "text": [
      "Python: 3.7.4 (default, Aug  9 2019, 18:34:13) [MSC v.1915 64 bit (AMD64)]\n",
      "Pandas: 0.25.1\n",
      "Numpy: 1.16.5\n",
      "Sklearn: 0.21.3\n",
      "Matplotlib: 3.1.1\n",
      "Keras: 2.2.4\n"
     ]
    }
   ],
   "source": [
    "#****************************************\n",
    "# This juptyter notebook was created for the project, Heart Disease Prediction with Neural Networks,\n",
    "# from the Udemy course, Aplied Machine Learning in Healthcare found at: \n",
    "#     https://www.udemy.com/course/applied-machine-learning-for-healthcare\n",
    "#\n",
    "# The dataset used is a molecular biology e coli (promoter gene sequence) data set\n",
    "# located in the UCI repository at\n",
    "#    FILL THIS IN\n",
    "#\n",
    "#In this project we complete the following activities \n",
    "# 1. Fill this in\n",
    "# 2. \n",
    "#\n",
    "\n",
    "#*****************************************************************\n",
    "\n",
    "# import libraries and check versions\n",
    "import sys  # Python\n",
    "import pandas as pd # Use Pandas for data handling and importing\n",
    "import numpy as np\n",
    "import sklearn # machine learning tools\n",
    "import matplotlib # for graphing\n",
    "import keras # deep learning API to build the neural network\n",
    "\n",
    "print('Python: {}'.format(sys.version))   # use .format function to substitute a variable into a string\n",
    "print('Pandas: {}'.format(pd.__version__))\n",
    "print('Numpy: {}'.format(np.__version__))\n",
    "print('Sklearn: {}'.format(sklearn.__version__))\n",
    "print('Matplotlib: {}'.format(matplotlib.__version__))\n",
    "print('Keras: {}'.format(keras.__version__))    \n",
    "\n",
    "#print 'Python: {}'.format(sys.version)\n",
    "#print 'Pandas: {}'.format(pd.__version__)\n",
    "#print 'Numpy: {}'.format(np.__version__)\n",
    "#print 'Sklearn: {}'.format(sklearn.__version__)\n",
    "#print 'Matplotlib: {}'.format(matplotlib.__version__)\n",
    "#print 'Keras: {}'.format(keras.__version__)\n",
    "\n",
    "\n",
    "\n",
    "\n"
   ]
  },
  {
   "cell_type": "code",
   "execution_count": null,
   "metadata": {},
   "outputs": [],
   "source": []
  }
 ],
 "metadata": {
  "kernelspec": {
   "display_name": "Python 3",
   "language": "python",
   "name": "python3"
  },
  "language_info": {
   "codemirror_mode": {
    "name": "ipython",
    "version": 3
   },
   "file_extension": ".py",
   "mimetype": "text/x-python",
   "name": "python",
   "nbconvert_exporter": "python",
   "pygments_lexer": "ipython3",
   "version": "3.7.4"
  }
 },
 "nbformat": 4,
 "nbformat_minor": 2
}
