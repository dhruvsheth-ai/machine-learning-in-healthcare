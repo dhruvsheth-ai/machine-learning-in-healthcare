{
 "cells": [
  {
   "cell_type": "code",
   "execution_count": 1,
   "metadata": {},
   "outputs": [
    {
     "name": "stdout",
     "output_type": "stream",
     "text": [
      "Python: {} 3.7.4 (default, Aug  9 2019, 18:34:13) [MSC v.1915 64 bit (AMD64)]\n",
      "Numpy: {} 1.16.5\n",
      "Sklearn: {} 0.21.3\n",
      "Pandas: {} 0.25.1\n"
     ]
    }
   ],
   "source": [
    "#****************************************\n",
    "# This juptyter notebook was created for the project, DNA Classification,\n",
    "# from the Udemy course, Aplied Machine Learning in Healthcare found at: \n",
    "#     https://www.udemy.com/course/applied-machine-learning-for-healthcare\n",
    "#\n",
    "# The dataset used is a molecular biology e coli (promoter gene sequence) data set\n",
    "# located in the UCI repository at\n",
    "#    https://archive.ics.uci.edu/ml/machine-learning-databases/molecular-biology/promoter-gene-sequences\n",
    "#\n",
    "#In this project we complete the following activities:\n",
    "# 1. Fill this in\n",
    "#\n",
    "#\n",
    "#\n",
    "#\n",
    "#\n",
    "#*****************************************************************\n",
    "\n",
    "# import libraries and check versions\n",
    "import sys\n",
    "import numpy   # for data pre-processing\n",
    "import sklearn # for algorithms and classification reports and metrics\n",
    "import pandas\n",
    "\n",
    "print('Python: {}', format(sys.version)) #output of sys.version is put into the variable, {}\n",
    "print('Numpy: {}', format(numpy.__version__))\n",
    "print('Sklearn: {}', format(sklearn.__version__))\n",
    "print('Pandas: {}', format(pandas.__version__))\n",
    "\n"
   ]
  },
  {
   "cell_type": "code",
   "execution_count": 6,
   "metadata": {},
   "outputs": [],
   "source": [
    "# import, change module names\n",
    "import numpy as np\n",
    "import pandas as pd\n",
    "\n",
    "# import uci molecular biology (promoter gene sequence) data set\n",
    "url = 'https://archive.ics.uci.edu/ml/machine-learning-databases/molecular-biology/promoter-gene-sequences/promoters.data'\n",
    "names = ['Class', 'id', 'Sequence']\n",
    "# above info comes from the file, promoters.names. Excerpt below\n",
    "#   -- class (positive or negative)\n",
    "#   -- instance name\n",
    "#  -- 57 sequential nucleotide (\"base-pair\") positions\n",
    "data = pd.read_csv(url, names = names) # read the csv into a pandas dataframe\n",
    "\n",
    "\n",
    "\n"
   ]
  },
  {
   "cell_type": "code",
   "execution_count": 9,
   "metadata": {},
   "outputs": [
    {
     "name": "stdout",
     "output_type": "stream",
     "text": [
      "  Class         id                                           Sequence\n",
      "0     +        S10  \\t\\ttactagcaatacgcttgcgttcggtggttaagtatgtataat...\n",
      "1     +       AMPC  \\t\\ttgctatcctgacagttgtcacgctgattggtgtcgttacaat...\n",
      "2     +       AROH  \\t\\tgtactagagaactagtgcattagcttatttttttgttatcat...\n",
      "3     +      DEOP2  \\taattgtgatgtgtatcgaagtgtgttgcggagtagatgttagaa...\n",
      "4     +  LEU1_TRNA  \\ttcgataattaactattgacgaaaagctgaaaaccactagaatgc...\n"
     ]
    }
   ],
   "source": [
    "print(data.iloc[:5])\n",
    "# above - look at the first few instances in the dataset"
   ]
  },
  {
   "cell_type": "code",
   "execution_count": 11,
   "metadata": {},
   "outputs": [
    {
     "name": "stdout",
     "output_type": "stream",
     "text": [
      "0    +\n",
      "1    +\n",
      "2    +\n",
      "3    +\n",
      "4    +\n",
      "Name: Class, dtype: object\n"
     ]
    }
   ],
   "source": [
    "# after looking at the first few data points, we see 2 issues\n",
    "# 1. the tab, '\\t', in the csv file is being pulled into the data frame\n",
    "# 2. we don't want the id info as that will skew the training results\n",
    "\n",
    "# build our dataset using a custom pandas dataframe\n",
    "# each column in a dataframe is called a series\n",
    "\n",
    "classes = data.loc[:, 'Class']\n",
    "print(classes[:5]) # look at first 5\n"
   ]
  },
  {
   "cell_type": "code",
   "execution_count": 12,
   "metadata": {},
   "outputs": [
    {
     "name": "stdout",
     "output_type": "stream",
     "text": [
      "['t', 'a', 'c', 't', 'a', 'g', 'c', 'a', 'a', 't', 'a', 'c', 'g', 'c', 't', 't', 'g', 'c', 'g', 't', 't', 'c', 'g', 'g', 't', 'g', 'g', 't', 't', 'a', 'a', 'g', 't', 'a', 't', 'g', 't', 'a', 't', 'a', 'a', 't', 'g', 'c', 'g', 'c', 'g', 'g', 'g', 'c', 't', 't', 'g', 't', 'c', 'g', 't', '+']\n"
     ]
    }
   ],
   "source": [
    "# generate list of DNA sequences\n",
    "sequences = list(data.loc[:, 'Sequence']) # put the sequence info into a list called sequences\n",
    "dataset = {}\n",
    "\n",
    "# loop through the sequences and split into individual nucleotides\n",
    "for i, seq in enumerate(sequences):  #enumerate through our list\n",
    "\n",
    "    # split into nucleotides, remove tab characters\n",
    "    # each pass thru the for loop we take 1 sequeces from the list of sequences\n",
    "    nucleotides = list(seq)\n",
    "    nucleotides = [x for x in nucleotides if x != '\\t']\n",
    "    # above - take every single letter as long as it is not a '\\t'\n",
    "    \n",
    "    # append class assignment\n",
    "    nucleotides.append(classes[i])\n",
    "    \n",
    "    # add to dataset\n",
    "    dataset[i] = nucleotides\n",
    "    \n",
    "    \n",
    "print(dataset[0])\n",
    "    \n"
   ]
  },
  {
   "cell_type": "code",
   "execution_count": null,
   "metadata": {},
   "outputs": [],
   "source": []
  }
 ],
 "metadata": {
  "kernelspec": {
   "display_name": "Python 3",
   "language": "python",
   "name": "python3"
  },
  "language_info": {
   "codemirror_mode": {
    "name": "ipython",
    "version": 3
   },
   "file_extension": ".py",
   "mimetype": "text/x-python",
   "name": "python",
   "nbconvert_exporter": "python",
   "pygments_lexer": "ipython3",
   "version": "3.7.4"
  }
 },
 "nbformat": 4,
 "nbformat_minor": 2
}
