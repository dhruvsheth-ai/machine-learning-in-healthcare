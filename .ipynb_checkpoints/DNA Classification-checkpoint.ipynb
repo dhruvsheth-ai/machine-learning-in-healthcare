{
 "cells": [
  {
   "cell_type": "code",
   "execution_count": 1,
   "metadata": {},
   "outputs": [
    {
     "name": "stdout",
     "output_type": "stream",
     "text": [
      "Python: {} 3.7.4 (default, Aug  9 2019, 18:34:13) [MSC v.1915 64 bit (AMD64)]\n",
      "Numpy: {} 1.16.5\n",
      "Sklearn: {} 0.21.3\n",
      "Pandas: {} 0.25.1\n"
     ]
    }
   ],
   "source": [
    "#****************************************\n",
    "# This juptyter notebook was created for the project, DNA Classification\n",
    "# from the Udemy course, Aplied Machine Learning in Healthcare, \n",
    "#     https://www.udemy.com/course/applied-machine-learning-for-healthcare\n",
    "#In this project we complete the following activities:\n",
    "# 1. Fill this in\n",
    "#\n",
    "#\n",
    "#\n",
    "#\n",
    "#\n",
    "#*****************************************************************\n",
    "\n",
    "# import libraries and check versions\n",
    "import sys\n",
    "import numpy   # for data pre-processing\n",
    "import sklearn # for algorithms and classification reports and metrics\n",
    "import pandas\n",
    "\n",
    "print('Python: {}', format(sys.version)) #output of sys.version is put into the variable, {}\n",
    "print('Numpy: {}', format(numpy.__version__))\n",
    "print('Sklearn: {}', format(sklearn.__version__))\n",
    "print('Pandas: {}', format(pandas.__version__))\n",
    "\n"
   ]
  },
  {
   "cell_type": "code",
   "execution_count": null,
   "metadata": {},
   "outputs": [],
   "source": []
  }
 ],
 "metadata": {
  "kernelspec": {
   "display_name": "Python 3",
   "language": "python",
   "name": "python3"
  },
  "language_info": {
   "codemirror_mode": {
    "name": "ipython",
    "version": 3
   },
   "file_extension": ".py",
   "mimetype": "text/x-python",
   "name": "python",
   "nbconvert_exporter": "python",
   "pygments_lexer": "ipython3",
   "version": "3.7.4"
  }
 },
 "nbformat": 4,
 "nbformat_minor": 2
}
