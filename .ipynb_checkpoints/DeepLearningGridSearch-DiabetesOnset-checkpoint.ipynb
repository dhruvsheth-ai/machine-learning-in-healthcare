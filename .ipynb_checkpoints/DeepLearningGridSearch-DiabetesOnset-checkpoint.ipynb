{
 "cells": [
  {
   "cell_type": "code",
   "execution_count": null,
   "metadata": {},
   "outputs": [],
   "source": [
    "#****************************************\n",
    "# This juptyter notebook was created for the project, Deep Learning Grid Search for\n",
    "# Diabetes Onset Prediction\n",
    "# from the Udemy course, Aplied Machine Learning in Healthcare, \n",
    "#     https://www.udemy.com/course/applied-machine-learning-for-healthcare\n",
    "#In this project we complete the following activities:\n",
    "# 1. FILL THIS IN\n",
    "#\n",
    "#*****************************************************************\n",
    "import sys\n",
    "import pandas #to handle data sets\n",
    "import numpy #for computation and arrays\n",
    "import sklearn #for machine learning packages\n",
    "import keras\n",
    "import theano\n",
    "#theano.test()\n",
    "\n",
    "#print (sys.path)\n",
    "print('Python: {}'.format(sys.version))\n",
    "print('Pandas: {}'.format(pandas.__version__))\n",
    "print('Numpy: {}'.format(numpy.__version__))\n",
    "print('Sklearn: {}'.format(sklearn.__version__))\n",
    "print('Keras: {}'.format(keras.__version__))\n",
    "print('Theano: {}'.format(theano.__version__))\n"
   ]
  },
  {
   "cell_type": "code",
   "execution_count": null,
   "metadata": {},
   "outputs": [],
   "source": [
    "# we'll be using these library's a lot, so lets make it easier to call them\n",
    "import pandas as pd\n",
    "import numpy as np\n",
    "\n",
    "#import the uci pima indians diabetes dataset\n",
    "# url = \"https://archive.ics.uci.edu/ml/machine-learning-databases/pima-indians-diabetes/pima-indians-diabetes.data\"\n",
    "# since the data set is no longer available in UCI, I found it from another location in github and downloaded it \n",
    "#to a file called  'diabetes.doata on my local machine in my machine learning project folder\n",
    "url = \"diabetes.data\"\n",
    "names = ['n_pregnant', 'glucose_concentration', 'blood_pressuer (mm Hg)', 'skin_thickness (mm)', 'serum_insulin (mu U/ml)', \n",
    "         'BMI', 'pedigree_function', 'age', 'class']\n",
    "df = pd.read_csv(url, names = names)\n",
    "\n",
    "# describe the dataset\n",
    "df.describe()\n",
    "         "
   ]
  },
  {
   "cell_type": "code",
   "execution_count": null,
   "metadata": {},
   "outputs": [],
   "source": [
    "#Lets look closer at the glucose concentration of 0\n",
    "df[df['glucose_concentration']==0]"
   ]
  },
  {
   "cell_type": "code",
   "execution_count": null,
   "metadata": {},
   "outputs": [],
   "source": []
  }
 ],
 "metadata": {
  "kernelspec": {
   "display_name": "Python 3",
   "language": "python",
   "name": "python3"
  },
  "language_info": {
   "codemirror_mode": {
    "name": "ipython",
    "version": 3
   },
   "file_extension": ".py",
   "mimetype": "text/x-python",
   "name": "python",
   "nbconvert_exporter": "python",
   "pygments_lexer": "ipython3",
   "version": "3.7.4"
  }
 },
 "nbformat": 4,
 "nbformat_minor": 2
}
