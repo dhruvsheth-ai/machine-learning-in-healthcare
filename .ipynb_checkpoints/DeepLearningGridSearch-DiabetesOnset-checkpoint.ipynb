{
 "cells": [
  {
   "cell_type": "code",
   "execution_count": null,
   "metadata": {},
   "outputs": [],
   "source": [
    "#****************************************\n",
    "# This juptyter notebook was created for the project, Deep Learning Grid Search for\n",
    "# Diabetes Onset Prediction\n",
    "# from the Udemy course, Aplied Machine Learning in Healthcare, \n",
    "#     https://www.udemy.com/course/applied-machine-learning-for-healthcare\n",
    "#In this project we complete the following activities:\n",
    "# 1. FILL THIS IN\n",
    "#\n",
    "#*****************************************************************\n",
    "import sys\n",
    "import pandas #to handle data sets\n",
    "import numpy #for computation and arrays\n",
    "import sklearn #for machine learning packages\n",
    "import keras\n"
   ]
  }
 ],
 "metadata": {
  "kernelspec": {
   "display_name": "Python 3",
   "language": "python",
   "name": "python3"
  },
  "language_info": {
   "codemirror_mode": {
    "name": "ipython",
    "version": 3
   },
   "file_extension": ".py",
   "mimetype": "text/x-python",
   "name": "python",
   "nbconvert_exporter": "python",
   "pygments_lexer": "ipython3",
   "version": "3.7.4"
  }
 },
 "nbformat": 4,
 "nbformat_minor": 2
}
