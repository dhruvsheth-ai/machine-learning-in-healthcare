{
 "cells": [
  {
   "cell_type": "code",
   "execution_count": 7,
   "metadata": {},
   "outputs": [
    {
     "name": "stdout",
     "output_type": "stream",
     "text": [
      "Python: 3.7.4 (default, Aug  9 2019, 18:34:13) [MSC v.1915 64 bit (AMD64)]\n",
      "Pandas: 0.25.1\n",
      "Numpy: 1.16.5\n",
      "Sklearn: 0.21.3\n",
      "Keras: 2.2.4\n"
     ]
    }
   ],
   "source": [
    "#****************************************\n",
    "# This juptyter notebook was created for the project, Deep Learning Grid Search for\n",
    "# Diabetes Onset Prediction\n",
    "# from the Udemy course, Aplied Machine Learning in Healthcare, \n",
    "#     https://www.udemy.com/course/applied-machine-learning-for-healthcare\n",
    "#In this project we complete the following activities:\n",
    "# 1. FILL THIS IN\n",
    "#\n",
    "#*****************************************************************\n",
    "import sys\n",
    "import pandas #to handle data sets\n",
    "import numpy #for computation and arrays\n",
    "import sklearn #for machine learning packages\n",
    "import keras\n",
    "\n",
    "print('Python: {}'.format(sys.version))\n",
    "print('Pandas: {}'.format(pandas.__version__))\n",
    "print('Numpy: {}'.format(numpy.__version__))\n",
    "print('Sklearn: {}'.format(sklearn.__version__))\n",
    "print('Keras: {}'.format(keras.__version__))\n",
    "\n"
   ]
  },
  {
   "cell_type": "code",
   "execution_count": null,
   "metadata": {},
   "outputs": [],
   "source": [
    "# we'll be using these library's a lot, so lets make it easier to call them\n",
    "import pandas as pd\n",
    "import numpy as np\n",
    "\n",
    "#import the uci pima indians diabetes dataset\n",
    "url = \"https://archive.ics.uci.edu/ml/machine-learning-databases/pima-indians-diabetes/pima-indians-diabetes.data\""
   ]
  }
 ],
 "metadata": {
  "kernelspec": {
   "display_name": "Python 3",
   "language": "python",
   "name": "python3"
  },
  "language_info": {
   "codemirror_mode": {
    "name": "ipython",
    "version": 3
   },
   "file_extension": ".py",
   "mimetype": "text/x-python",
   "name": "python",
   "nbconvert_exporter": "python",
   "pygments_lexer": "ipython3",
   "version": "3.7.4"
  }
 },
 "nbformat": 4,
 "nbformat_minor": 2
}
